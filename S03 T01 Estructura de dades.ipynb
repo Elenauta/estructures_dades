{
 "cells": [
  {
   "cell_type": "markdown",
   "id": "784d57ae",
   "metadata": {},
   "source": [
    "### Nivell 1 ⭐️"
   ]
  },
  {
   "cell_type": "markdown",
   "id": "93056658",
   "metadata": {},
   "source": [
    "## Exercici 1"
   ]
  },
  {
   "cell_type": "markdown",
   "id": "83b01613",
   "metadata": {},
   "source": [
    "Crea una llista que agrupi els mesos de l’any en trimestres (1T: Gener, Febrer i Març, 2T: Abril, Maig, Juny...), és a dir, una llista amb 4 llistes dins.\n",
    "\n"
   ]
  },
  {
   "cell_type": "code",
   "execution_count": 2,
   "id": "82ab9fc7",
   "metadata": {},
   "outputs": [
    {
     "name": "stdout",
     "output_type": "stream",
     "text": [
      "[['Gener', 'Febrer', 'Març'], ['Abril', 'Maig', 'Juny'], ['Juliol', 'Agost', 'Setembre'], ['Octubre', 'Novembre', 'Desembre']]\n"
     ]
    }
   ],
   "source": [
    "T1 = [\"Gener\", \"Febrer\", \"Març\"]\n",
    "T2 = [\"Abril\", \"Maig\", \"Juny\"]\n",
    "T3 = [\"Juliol\", \"Agost\", \"Setembre\"]\n",
    "T4 = [\"Octubre\", \"Novembre\", \"Desembre\"]\n",
    "\n",
    "T_Any = [T1, T2, T3, T4]\n",
    "print(T_Any)\n"
   ]
  },
  {
   "cell_type": "markdown",
   "id": "327675f8",
   "metadata": {},
   "source": [
    "## Exercici 2"
   ]
  },
  {
   "cell_type": "markdown",
   "id": "24d9a1c1",
   "metadata": {},
   "source": [
    "Crea un codi que et permeti accedir a:\n",
    "\n",
    "    - El segon mes del primer trimestre\n",
    "    - Els mesos del primer trimestre\n",
    "    - Setembre i octubre\n"
   ]
  },
  {
   "cell_type": "code",
   "execution_count": 12,
   "id": "b3bfff1f",
   "metadata": {},
   "outputs": [
    {
     "name": "stdout",
     "output_type": "stream",
     "text": [
      "Febrer\n"
     ]
    }
   ],
   "source": [
    "print(T_Any[0][1]) # el primer paràmetre indica la posició del primer trimestre\n",
    "                   # el segón, la del mes de febrer dins del primer trimestre"
   ]
  },
  {
   "cell_type": "markdown",
   "id": "8ec23269",
   "metadata": {},
   "source": [
    "_____"
   ]
  },
  {
   "cell_type": "code",
   "execution_count": 16,
   "id": "db02473b",
   "metadata": {},
   "outputs": [
    {
     "name": "stdout",
     "output_type": "stream",
     "text": [
      "['Gener', 'Febrer', 'Març']\n"
     ]
    }
   ],
   "source": [
    "print(T_Any[0])  # [0] és l´index del primer trimestre, l'imprimeix fora de la llista\n"
   ]
  },
  {
   "cell_type": "markdown",
   "id": "c1c81604",
   "metadata": {},
   "source": [
    "or"
   ]
  },
  {
   "cell_type": "code",
   "execution_count": 20,
   "id": "98f1bdf1",
   "metadata": {},
   "outputs": [
    {
     "name": "stdout",
     "output_type": "stream",
     "text": [
      "[['Gener', 'Febrer', 'Març']]\n"
     ]
    }
   ],
   "source": [
    "print(T_Any[0:1])   # imprimeix els mesos dintre del any, 2D\n"
   ]
  },
  {
   "cell_type": "markdown",
   "id": "a9b00143",
   "metadata": {},
   "source": [
    "or"
   ]
  },
  {
   "cell_type": "code",
   "execution_count": 34,
   "id": "6084b401",
   "metadata": {},
   "outputs": [
    {
     "name": "stdout",
     "output_type": "stream",
     "text": [
      "Gener\n",
      "Febrer\n",
      "Març\n"
     ]
    }
   ],
   "source": [
    "for x in T_Any[0]:  # això és el que buscava, noms fora de una llista!!!!!! 🙌🏻\n",
    "    print (x)\n",
    "    "
   ]
  },
  {
   "cell_type": "markdown",
   "id": "c63f89ab",
   "metadata": {},
   "source": [
    "______"
   ]
  },
  {
   "cell_type": "code",
   "execution_count": 46,
   "id": "c620214d",
   "metadata": {},
   "outputs": [
    {
     "name": "stdout",
     "output_type": "stream",
     "text": [
      "Setembre\n",
      "Octubre\n"
     ]
    }
   ],
   "source": [
    "print(T_Any[2][2])  # tercer trimestre, tercer mes\n",
    "print(T_Any[3][0])  # quart trimestre, primer mes\n"
   ]
  },
  {
   "cell_type": "markdown",
   "id": "cccbee6f",
   "metadata": {},
   "source": [
    "## Exercici 3"
   ]
  },
  {
   "cell_type": "markdown",
   "id": "e1663f6f",
   "metadata": {},
   "source": [
    "Crea una llista amb números desordenats i respon a les següents preguntes:\n",
    "    \n",
    "    - Quants números hi ha?\n",
    "    - Quantes vegades apareix el número 3\n",
    "    - Quantes vegades apareixen els nombres 3 i 4?\n",
    "    - Quin és el número més gran?\n",
    "    - Quins són els 3 números més petits?\n",
    "    - Quin és el rang d’aquesta llista?"
   ]
  },
  {
   "cell_type": "code",
   "execution_count": 56,
   "id": "cdfb9cee",
   "metadata": {},
   "outputs": [
    {
     "name": "stdout",
     "output_type": "stream",
     "text": [
      "A la llista hi ha  9 números\n"
     ]
    }
   ],
   "source": [
    "numeros = [5, 40, 4, 7, 20, 67, 18, 3, 0]\n",
    "print(\"A la llista hi ha \", len(numeros), \"números\")\n"
   ]
  },
  {
   "cell_type": "code",
   "execution_count": 57,
   "id": "f105f730",
   "metadata": {},
   "outputs": [
    {
     "name": "stdout",
     "output_type": "stream",
     "text": [
      "El 3 apareix 1 vegada\n"
     ]
    }
   ],
   "source": [
    "a = 3\n",
    "count = numeros.count(a)\n",
    "if count == 1:\n",
    "    print(\"El 3 apareix\", count,\"vegada\")\n",
    "else:\n",
    "    print(\"El 3 apareix\", count,\"vegades\")\n",
    "    "
   ]
  },
  {
   "cell_type": "code",
   "execution_count": 58,
   "id": "1cc9c45f",
   "metadata": {},
   "outputs": [
    {
     "name": "stdout",
     "output_type": "stream",
     "text": [
      "el 3 apareix 1 vegada i el 4, 1 vegada.\n"
     ]
    }
   ],
   "source": [
    "a = 3\n",
    "b = 4\n",
    "count = numeros.count(a)\n",
    "count1 = numeros.count(b)\n",
    "if count == 1 or count1 == 1:\n",
    "    print(\"el 3 apareix\", count, \"vegada i el 4,\", count1,\"vegada.\")\n",
    "else:\n",
    "    print(\"el 3 apareix\", count, \"vegades i el 4,\", count1, \"vegades.\")\n"
   ]
  },
  {
   "cell_type": "code",
   "execution_count": 64,
   "id": "cee45146",
   "metadata": {},
   "outputs": [
    {
     "name": "stdout",
     "output_type": "stream",
     "text": [
      "el número més gran és el 67 .\n"
     ]
    }
   ],
   "source": [
    "maxim = max(numeros)\n",
    "print(\"el número més gran és el\", maxim,\".\")\n"
   ]
  },
  {
   "cell_type": "code",
   "execution_count": 65,
   "id": "debdfc1c",
   "metadata": {},
   "outputs": [
    {
     "name": "stdout",
     "output_type": "stream",
     "text": [
      "els tres números més petits son  [0, 3, 4]\n"
     ]
    }
   ],
   "source": [
    "numeros.sort()   # ordeno la llista i imprimeixo els tres primers.\n",
    "print(\"els tres números més petits son \", numeros[0:3])\n"
   ]
  },
  {
   "cell_type": "code",
   "execution_count": 81,
   "id": "86ba941f",
   "metadata": {},
   "outputs": [
    {
     "name": "stdout",
     "output_type": "stream",
     "text": [
      "El rang d´aquesta llista és 68, que correspon a l´index del valor màxim, 67\n"
     ]
    }
   ],
   "source": [
    "print(\"El rang d´aquesta llista és 68, que correspon a l´index del valor màxim, 67\")\n"
   ]
  },
  {
   "cell_type": "markdown",
   "id": "97aeec7c",
   "metadata": {},
   "source": [
    "## Exercici 4"
   ]
  },
  {
   "cell_type": "markdown",
   "id": "ee3291b6",
   "metadata": {},
   "source": [
    "Crea un diccionari de la següent forma i respon a les preguntes:\n",
    "\n",
    "compra = { \"Pomes\" : {\"Qty\": 5, \"€\": 0.42}, \"Peres\" : {\"Qty\": 3, \"€\": 0.66} }\n",
    "\n",
    "    - Afegeix alguna fruita més\n",
    "    - Quant han costat les peres en total?\n",
    "    - Quantes fruites hem comprat en total?\n",
    "    - Quina és la fruita més cara?"
   ]
  },
  {
   "cell_type": "code",
   "execution_count": 20,
   "id": "9e7aced7",
   "metadata": {},
   "outputs": [
    {
     "name": "stdout",
     "output_type": "stream",
     "text": [
      "{'Pomes': {'Qty': 5, '€': 0.42}, 'Peres': {'Qty': 3, '€': 0.66}}\n"
     ]
    }
   ],
   "source": [
    "compra = {                                  # creació del diccionari\n",
    "    \"Pomes\" : {\"Qty\": 5, \"€\": 0.42}, \n",
    "    \"Peres\" : {\"Qty\": 3, \"€\": 0.66} \n",
    "}\n",
    "print(compra)\n"
   ]
  },
  {
   "cell_type": "code",
   "execution_count": 21,
   "id": "7e3a65db",
   "metadata": {},
   "outputs": [
    {
     "name": "stdout",
     "output_type": "stream",
     "text": [
      "{'Pomes': {'Qty': 5, '€': 0.42}, 'Peres': {'Qty': 3, '€': 0.66}, 'Cireres': {'Qty': 20, '€': 0.05}}\n"
     ]
    }
   ],
   "source": [
    "compra[\"Cireres\"] = {\"Qty\": 20, \"€\": 0.05}    # afegeixo Cireres\n",
    "print(compra)\n"
   ]
  },
  {
   "cell_type": "code",
   "execution_count": 125,
   "id": "85019f53",
   "metadata": {},
   "outputs": [
    {
     "name": "stdout",
     "output_type": "stream",
     "text": [
      "Les peres han costat 1.98 € en total.\n"
     ]
    }
   ],
   "source": [
    "# trovar Peres i funció que multiplica els dos valors \n",
    "compra = {\n",
    "        'Pomes': {\n",
    "              'Qty': 5, \n",
    "                '€': 0.42\n",
    "        }, \n",
    "        'Peres': {\n",
    "              'Qty': 3, \n",
    "                '€': 0.66\n",
    "        }, \n",
    "      'Cireres': {\n",
    "              'Qty': 20, \n",
    "                '€': 0.05}\n",
    "}\n",
    "\n",
    "pe = compra.get(\"Peres\")\n",
    "# print(pe.values()), aquí tinc els dos valors pero no els puc operar... creo variables!:\n",
    "\n",
    "preu_pe = compra['Peres']['€']\n",
    "qtat_pe = compra['Peres']['Qty']\n",
    "gasto_pe = preu_pe * qtat_pe\n",
    "print(\"Les peres han costat\", gasto_pe, \"€ en total.\")\n",
    "\n",
    "    "
   ]
  },
  {
   "cell_type": "code",
   "execution_count": 131,
   "id": "1bec2c9a",
   "metadata": {
    "scrolled": true
   },
   "outputs": [
    {
     "name": "stdout",
     "output_type": "stream",
     "text": [
      "La quantitat total de fruites es de 28 unitats.\n"
     ]
    }
   ],
   "source": [
    "qtat_f= compra['Pomes']['Qty'] + compra['Peres']['Qty'] + compra['Cireres']['Qty']\n",
    "print (\"La quantitat total de fruites es de\", qtat_f, \"unitats.\")\n"
   ]
  },
  {
   "cell_type": "code",
   "execution_count": 144,
   "id": "5dda7ad8",
   "metadata": {},
   "outputs": [
    {
     "ename": "SyntaxError",
     "evalue": "invalid syntax (<ipython-input-144-34c21a14393d>, line 20)",
     "output_type": "error",
     "traceback": [
      "\u001b[0;36m  File \u001b[0;32m\"<ipython-input-144-34c21a14393d>\"\u001b[0;36m, line \u001b[0;32m20\u001b[0m\n\u001b[0;31m    if dades['€'] == 0.66\u001b[0m\n\u001b[0m                         ^\u001b[0m\n\u001b[0;31mSyntaxError\u001b[0m\u001b[0;31m:\u001b[0m invalid syntax\n"
     ]
    }
   ],
   "source": [
    "preu_max = max(compra['Pomes']['€'], compra['Peres']['€'], compra['Cireres']['€'])\n",
    "print(preu_max)\n",
    "\n",
    "# ara que tinc el preu màxim, vaig a veure a quina fruita correspon...\n",
    "compra = {\n",
    "        'Pomes': {\n",
    "              'Qty': 5, \n",
    "                '€': 0.42\n",
    "        }, \n",
    "        'Peres': {\n",
    "              'Qty': 3, \n",
    "                '€': 0.66\n",
    "        }, \n",
    "      'Cireres': {\n",
    "              'Qty': 20, \n",
    "                '€': 0.05\n",
    "        }\n",
    "}\n",
    "for fruites, dades in compra.items():\n",
    "    if dades['€'] == 0.66\n",
    "    print(fruita)\n"
   ]
  },
  {
   "cell_type": "markdown",
   "id": "7288ed58",
   "metadata": {},
   "source": [
    "Objectius\n",
    "\n",
    "Llistes\\\n",
    "tuples\\\n",
    "Sets\\\n",
    "Diccionaris"
   ]
  },
  {
   "cell_type": "markdown",
   "id": "90aefb64",
   "metadata": {},
   "source": [
    "Durada: 2 dies"
   ]
  },
  {
   "cell_type": "markdown",
   "id": "add69199",
   "metadata": {},
   "source": [
    "Lliurament:\n",
    "Enviar la URL a un repositori anomenat estructures_dades que contingui la solució. S'ha d'entregar cada Excercici en un mateix fitxer i en un repositori."
   ]
  }
 ],
 "metadata": {
  "kernelspec": {
   "display_name": "Python 3",
   "language": "python",
   "name": "python3"
  },
  "language_info": {
   "codemirror_mode": {
    "name": "ipython",
    "version": 3
   },
   "file_extension": ".py",
   "mimetype": "text/x-python",
   "name": "python",
   "nbconvert_exporter": "python",
   "pygments_lexer": "ipython3",
   "version": "3.8.8"
  }
 },
 "nbformat": 4,
 "nbformat_minor": 5
}
