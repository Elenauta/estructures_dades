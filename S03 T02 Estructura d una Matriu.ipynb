{
 "cells": [
  {
   "cell_type": "markdown",
   "id": "626cc294",
   "metadata": {},
   "source": [
    "Anem a practicar i a familiaritzar-nos amb l'estructura de Matrius, dimensió, forma, vectorització i Broadcasting ."
   ]
  },
  {
   "cell_type": "markdown",
   "id": "30ff924a",
   "metadata": {},
   "source": [
    " ### Nivell 1 ⭐️"
   ]
  },
  {
   "cell_type": "markdown",
   "id": "73be4efc",
   "metadata": {},
   "source": [
    "Treballem els conceptes de l'estructura d'una matriu, dimensió, eixos i la vectorització que ens permet reduir l'ús de for loops en operacions aritmètiques o matemàtiques.."
   ]
  },
  {
   "cell_type": "markdown",
   "id": "a12008d7",
   "metadata": {},
   "source": [
    "## Exercici 1 "
   ]
  },
  {
   "cell_type": "markdown",
   "id": "ed7312c0",
   "metadata": {},
   "source": [
    "Crea un np.array d'una dimensió, que inclogui l'almenys 8 nombres sencers, data type int64. Mostra la dimensió i la forma de la matriu. .\n",
    "\n"
   ]
  },
  {
   "cell_type": "code",
   "execution_count": 51,
   "id": "3dc71fdc",
   "metadata": {},
   "outputs": [
    {
     "name": "stdout",
     "output_type": "stream",
     "text": [
      "[1 2 3 4 5 6 7 8]\n",
      "int64\n",
      "(8,)\n"
     ]
    }
   ],
   "source": [
    "import numpy as np\n",
    "nombres = np.array([1, 2, 3, 4, 5, 6, 7, 8], dtype = 'int64', ndmin = 1)\n",
    "print(nombres)\n",
    "print(nombres.dtype)\n",
    "print(nombres.shape)\n"
   ]
  },
  {
   "cell_type": "markdown",
   "id": "49df95e3",
   "metadata": {},
   "source": [
    "## Exercici 2 "
   ]
  },
  {
   "cell_type": "markdown",
   "id": "8755ef54",
   "metadata": {},
   "source": [
    "De la matriu de l'exercici 1, calcula el valor mitjà dels valors introduïts i resta la mitjana resultant de cada un dels valors de la matriu."
   ]
  },
  {
   "cell_type": "code",
   "execution_count": 32,
   "id": "1a418815",
   "metadata": {},
   "outputs": [
    {
     "name": "stdout",
     "output_type": "stream",
     "text": [
      "4.5\n",
      "[-3.5 -2.5 -1.5 -0.5  0.5  1.5  2.5  3.5]\n"
     ]
    }
   ],
   "source": [
    "x = np.mean(nombres)\n",
    "print(x)\n",
    "new_nombres = nombres - x\n",
    "print(new_nombres)"
   ]
  },
  {
   "cell_type": "markdown",
   "id": "2d2e4cca",
   "metadata": {},
   "source": [
    "## Exercici 3"
   ]
  },
  {
   "cell_type": "markdown",
   "id": "865fa284",
   "metadata": {},
   "source": [
    "Crea una matriu bidimensional amb una forma de 5 x 5. Extreu el valor màxim de la matriu, i els valors màxims de cadascun dels seus eixos.\n",
    "\n"
   ]
  },
  {
   "cell_type": "code",
   "execution_count": 50,
   "id": "626cbe4e",
   "metadata": {},
   "outputs": [
    {
     "name": "stdout",
     "output_type": "stream",
     "text": [
      "[[5 4 7 7 3]\n",
      " [9 7 3 9 8]\n",
      " [4 6 6 5 9]\n",
      " [6 7 6 5 4]\n",
      " [7 3 9 8 8]]\n",
      "El valor màxim de la matriu es 9\n",
      "El valor màxim de l'eix vertical es [9 7 9 9 9]\n",
      "El valor màxim de l'eix horitzontal es [7 9 9 7 9]\n"
     ]
    }
   ],
   "source": [
    "import numpy as np\n",
    "\n",
    "m2D = np.array([[5, 4, 7, 7, 3], [9, 7, 3, 9, 8], [4, 6, 6, 5, 9], [6, 7, 6 , 5, 4], [7, 3, 9, 8, 8]], ndmin=2)\n",
    "print(m2D)\n",
    "\n",
    "print(\"El valor màxim de la matriu es\", np.amax(m2D))\n",
    "print(\"El valor màxim de l'eix vertical es\", np.amax(m2D, axis = 0))\n",
    "print(\"El valor màxim de l'eix horitzontal es\", np.amax(m2D, axis = 1))\n",
    "\n",
    "\n"
   ]
  },
  {
   "cell_type": "markdown",
   "id": "884c2e28",
   "metadata": {},
   "source": [
    " ### Nivell 2  ⭐️⭐️"
   ]
  },
  {
   "cell_type": "markdown",
   "id": "536d44ca",
   "metadata": {},
   "source": [
    "## Exercici 4"
   ]
  },
  {
   "cell_type": "markdown",
   "id": "9f7824e8",
   "metadata": {},
   "source": [
    "## Exercici 5"
   ]
  },
  {
   "cell_type": "markdown",
   "id": "9d677700",
   "metadata": {},
   "source": [
    "## Exercici 6"
   ]
  },
  {
   "cell_type": "markdown",
   "id": "0ae4df27",
   "metadata": {},
   "source": [
    "## Exercici 7"
   ]
  },
  {
   "cell_type": "markdown",
   "id": "6d041702",
   "metadata": {},
   "source": [
    " ### Nivell 3 ⭐️⭐️⭐️"
   ]
  },
  {
   "cell_type": "markdown",
   "id": "b0022be6",
   "metadata": {},
   "source": [
    "## Exercici 8"
   ]
  },
  {
   "cell_type": "code",
   "execution_count": null,
   "id": "bf8af89d",
   "metadata": {},
   "outputs": [],
   "source": []
  },
  {
   "cell_type": "code",
   "execution_count": null,
   "id": "a1432897",
   "metadata": {},
   "outputs": [],
   "source": []
  }
 ],
 "metadata": {
  "kernelspec": {
   "display_name": "Python 3",
   "language": "python",
   "name": "python3"
  },
  "language_info": {
   "codemirror_mode": {
    "name": "ipython",
    "version": 3
   },
   "file_extension": ".py",
   "mimetype": "text/x-python",
   "name": "python",
   "nbconvert_exporter": "python",
   "pygments_lexer": "ipython3",
   "version": "3.8.8"
  }
 },
 "nbformat": 4,
 "nbformat_minor": 5
}
